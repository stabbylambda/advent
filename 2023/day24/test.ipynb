{
 "cells": [
  {
   "cell_type": "code",
   "execution_count": 2,
   "metadata": {},
   "outputs": [
    {
     "name": "stdout",
     "output_type": "stream",
     "text": [
      "Requirement already satisfied: z3-solver in /Users/stoned/.pyenv/versions/3.10.6/lib/python3.10/site-packages (4.12.4.0)\n",
      "Note: you may need to restart the kernel to use updated packages.\n"
     ]
    },
    {
     "data": {
      "text/html": [
       "47"
      ],
      "text/plain": [
       "47"
      ]
     },
     "execution_count": 2,
     "metadata": {},
     "output_type": "execute_result"
    }
   ],
   "source": [
    "%pip install z3-solver\n",
    "\n",
    "from pathlib import Path\n",
    "import z3\n",
    "\n",
    "inp = (Path(\"test.txt\")).read_text().strip()\n",
    "lines = []\n",
    "for l in inp.splitlines():\n",
    "    a, b = l.split(' @ ')\n",
    "    pos = [int(w) for w in a.split(', ')]\n",
    "    vel = [int(w) for w in b.split(', ')]\n",
    "    lines.append((pos, vel))\n",
    "\n",
    "fx,  fy,  fz  = z3.Int(\"fx\"),  z3.Int(\"fy\"),  z3.Int(\"fz\")\n",
    "fdx, fdy, fdz = z3.Int(\"fdx\"), z3.Int(\"fdy\"), z3.Int(\"fdz\")\n",
    "s = z3.Solver()\n",
    "for i, ((x,y,z), (dx,dy,dz)) in enumerate(lines):\n",
    "    t = z3.Int(f\"t{i}\")\n",
    "    s.add(t >= 0)\n",
    "    s.add(x + dx * t == fx + fdx * t)\n",
    "    s.add(y + dy * t == fy + fdy * t)\n",
    "    s.add(z + dz * t == fz + fdz * t)\n",
    "assert str(s.check()) == 'sat'\n",
    "\n",
    "s.model().eval(fx + fy + fz)"
   ]
  }
 ],
 "metadata": {
  "kernelspec": {
   "display_name": "Python 3",
   "language": "python",
   "name": "python3"
  },
  "language_info": {
   "codemirror_mode": {
    "name": "ipython",
    "version": 3
   },
   "file_extension": ".py",
   "mimetype": "text/x-python",
   "name": "python",
   "nbconvert_exporter": "python",
   "pygments_lexer": "ipython3",
   "version": "3.10.6"
  }
 },
 "nbformat": 4,
 "nbformat_minor": 2
}
