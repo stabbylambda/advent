{
 "cells": [
  {
   "cell_type": "code",
   "execution_count": 2,
   "metadata": {},
   "outputs": [],
   "source": [
    "from math import prod\n",
    "import networkx as nx\n",
    "\n",
    "lines = [line.split(\": \") for line in open(\"input.txt\").readlines()]\n",
    "lines = [(v, adj.strip().split(\" \")) for [v, adj] in lines]\n",
    "pairs = [(v, a) for (v, adj) in lines for a in adj]"
   ]
  },
  {
   "cell_type": "code",
   "execution_count": 3,
   "metadata": {},
   "outputs": [
    {
     "data": {
      "text/plain": [
       "543564"
      ]
     },
     "execution_count": 3,
     "metadata": {},
     "output_type": "execute_result"
    }
   ],
   "source": [
    "G = nx.Graph()\n",
    "G.add_edges_from(pairs)\n",
    "G.remove_edges_from(nx.minimum_edge_cut(G))\n",
    "\n",
    "prod([len(c) for c in nx.connected_components(G)])"
   ]
  }
 ],
 "metadata": {
  "kernelspec": {
   "display_name": "Python 3",
   "language": "python",
   "name": "python3"
  },
  "language_info": {
   "codemirror_mode": {
    "name": "ipython",
    "version": 3
   },
   "file_extension": ".py",
   "mimetype": "text/x-python",
   "name": "python",
   "nbconvert_exporter": "python",
   "pygments_lexer": "ipython3",
   "version": "3.10.6"
  }
 },
 "nbformat": 4,
 "nbformat_minor": 2
}
